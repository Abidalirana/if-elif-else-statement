{
 "cells": [
  {
   "cell_type": "markdown",
   "id": "ebc801a1-beb1-4e50-a31b-65635f755d5d",
   "metadata": {},
   "source": [
    "# <h1 style=\"color:red\"> IF ELIF ELSE conditional statement</h1>#\n",
    "#### if, elif, and else are used for decision making in Python to run different blocks of code based on conditions—if checks the first condition, elif checks more conditions if the first is false, and else runs if none of the conditions are true.\n",
    "### Python relies on indentation, (whitespace at the beginning of a line) to define scope in the code.\n"
   ]
  },
  {
   "cell_type": "markdown",
   "id": "d6ac69be-2b0b-4f73-aed6-26764ff13c22",
   "metadata": {},
   "source": [
    "# <h1 style=\"color:blue\"> INDENTATION IN PYTHON </h1>\n",
    "##### COME AFTER 4 SPACE BUTTON"
   ]
  },
  {
   "cell_type": "code",
   "execution_count": 16,
   "id": "17f2d7a1-2675-46db-bed3-49ee6b106236",
   "metadata": {},
   "outputs": [
    {
     "name": "stdout",
     "output_type": "stream",
     "text": [
      "x is greater than 5\n"
     ]
    }
   ],
   "source": [
    "#proper indentation mar\n",
    "x=6\n",
    "if x > 5:\n",
    "    print(\"x is greater than 5\")  # ← This line is indented"
   ]
  },
  {
   "cell_type": "code",
   "execution_count": 6,
   "id": "303d37ed-a17f-4c14-9913-ef65cd12027b",
   "metadata": {},
   "outputs": [
    {
     "ename": "IndentationError",
     "evalue": "expected an indented block after 'if' statement on line 4 (1250022137.py, line 5)",
     "output_type": "error",
     "traceback": [
      "\u001b[1;36m  Cell \u001b[1;32mIn[6], line 5\u001b[1;36m\u001b[0m\n\u001b[1;33m    print(\"b is greater than a\") # you will get an error\u001b[0m\n\u001b[1;37m    ^\u001b[0m\n\u001b[1;31mIndentationError\u001b[0m\u001b[1;31m:\u001b[0m expected an indented block after 'if' statement on line 4\n"
     ]
    }
   ],
   "source": [
    "# identation error \n",
    "a = 33\n",
    "b = 200\n",
    "if b > a:\n",
    "print(\"b is greater than a\") # you will get an error"
   ]
  },
  {
   "cell_type": "markdown",
   "id": "8b8a48a4-6bf2-4008-821b-25b4448bdedb",
   "metadata": {},
   "source": [
    "# if"
   ]
  },
  {
   "cell_type": "code",
   "execution_count": 7,
   "id": "fe95dc02-e2ef-4336-b877-856175b2a3d4",
   "metadata": {},
   "outputs": [
    {
     "name": "stdout",
     "output_type": "stream",
     "text": [
      "b is greater than a\n"
     ]
    }
   ],
   "source": [
    "#check if correct then execute the code.\n",
    "a = 33                                         \n",
    "b = 200\n",
    "if b > a:\n",
    "  print(\"b is greater than a\")"
   ]
  },
  {
   "cell_type": "markdown",
   "id": "bcdb2a14-211e-406f-8477-a46abcb626f5",
   "metadata": {},
   "source": [
    "# elif\n",
    "### The elif keyword is Python's way of saying \"if the previous conditions were not true, then try this condition\"."
   ]
  },
  {
   "cell_type": "code",
   "execution_count": 9,
   "id": "36ec888f-7ee9-48c4-b582-ef2f2bf5b4ff",
   "metadata": {},
   "outputs": [
    {
     "name": "stdout",
     "output_type": "stream",
     "text": [
      "a and b are equal\n"
     ]
    }
   ],
   "source": [
    "a = 33\n",
    "b = 33\n",
    "if b > a:\n",
    "  print(\"b is greater than a\")\n",
    "elif a == b:\n",
    "  print(\"a and b are equal\")"
   ]
  },
  {
   "cell_type": "markdown",
   "id": "1fb42a2a-f7eb-4b1d-bb9a-8469ce4de785",
   "metadata": {},
   "source": [
    "# else \n",
    "### The else keyword catches anything which isn't caught by the preceding conditions."
   ]
  },
  {
   "cell_type": "code",
   "execution_count": 10,
   "id": "02658d79-23fa-40aa-8ebd-8a963a9a0cb1",
   "metadata": {},
   "outputs": [
    {
     "name": "stdout",
     "output_type": "stream",
     "text": [
      "a is greater than b\n"
     ]
    }
   ],
   "source": [
    "a = 200\n",
    "b = 33\n",
    "if b > a:\n",
    "  print(\"b is greater than a\")\n",
    "elif a == b:\n",
    "  print(\"a and b are equal\")\n",
    "else:\n",
    "  print(\"a is greater than b\")"
   ]
  },
  {
   "cell_type": "code",
   "execution_count": null,
   "id": "404957f4-1b51-4f9a-a3da-8b7369fb7743",
   "metadata": {},
   "outputs": [],
   "source": []
  }
 ],
 "metadata": {
  "kernelspec": {
   "display_name": "Python 3 (ipykernel)",
   "language": "python",
   "name": "python3"
  },
  "language_info": {
   "codemirror_mode": {
    "name": "ipython",
    "version": 3
   },
   "file_extension": ".py",
   "mimetype": "text/x-python",
   "name": "python",
   "nbconvert_exporter": "python",
   "pygments_lexer": "ipython3",
   "version": "3.13.2"
  }
 },
 "nbformat": 4,
 "nbformat_minor": 5
}
